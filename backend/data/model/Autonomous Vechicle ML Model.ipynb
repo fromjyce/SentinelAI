{
 "cells": [
  {
   "cell_type": "code",
   "execution_count": 1,
   "metadata": {},
   "outputs": [],
   "source": [
    "import pandas as pd\n",
    "from sklearn.model_selection import train_test_split\n",
    "from sklearn.preprocessing import LabelEncoder\n",
    "from sklearn.ensemble import RandomForestClassifier\n",
    "from sklearn.metrics import accuracy_score, classification_report, confusion_matrix\n",
    "import seaborn as sns\n",
    "import matplotlib.pyplot as plt\n"
   ]
  },
  {
   "cell_type": "code",
   "execution_count": 2,
   "metadata": {},
   "outputs": [],
   "source": [
    "# Load the balanced dataset\n",
    "df = pd.read_csv(\"Balanced_Autonomous_Vehicle_Security_Dataset.csv\")"
   ]
  },
  {
   "cell_type": "code",
   "execution_count": 3,
   "metadata": {},
   "outputs": [],
   "source": [
    "# Encode categorical variables (Label, Sensor Status, Attack Type, Protocol, Vehicle Usage, Car Sensor Type, Connection Type)\n",
    "label_encoder = LabelEncoder()\n",
    "\n",
    "# Encode the necessary columns\n",
    "df[\"Sensor Status\"] = label_encoder.fit_transform(df[\"Sensor Status\"])\n",
    "df[\"Vehicle Usage\"] = label_encoder.fit_transform(df[\"Vehicle Usage\"])\n",
    "df[\"Attack Type\"] = label_encoder.fit_transform(df[\"Attack Type\"])\n",
    "df[\"Protocol\"] = label_encoder.fit_transform(df[\"Protocol\"])\n",
    "df[\"Car Sensor Type\"] = label_encoder.fit_transform(df[\"Car Sensor Type\"])\n",
    "df[\"Connection Type\"] = label_encoder.fit_transform(df[\"Connection Type\"])\n",
    "df[\"Label\"] = label_encoder.fit_transform(df[\"Label\"])\n",
    "\n",
    "# Separate features and target variable\n",
    "X = df.drop(columns=[\"Vehicle ID\", \"Location\", \"Label\"])  # Drop ID and Location columns as they are not useful for the model\n",
    "y = df[\"Label\"]\n"
   ]
  },
  {
   "cell_type": "code",
   "execution_count": 5,
   "metadata": {},
   "outputs": [],
   "source": [
    "# Split the data into training and testing sets (80% train, 20% test)\n",
    "X_train, X_test, y_train, y_test = train_test_split(X, y, test_size=0.2, random_state=42)"
   ]
  },
  {
   "cell_type": "code",
   "execution_count": 12,
   "metadata": {},
   "outputs": [],
   "source": [
    "# Increase min_samples_split and min_samples_leaf\n",
    "rf_model = RandomForestClassifier(n_estimators=100, max_depth=6, min_samples_split=10, min_samples_leaf=5, random_state=42)\n"
   ]
  },
  {
   "cell_type": "code",
   "execution_count": 13,
   "metadata": {},
   "outputs": [],
   "source": [
    "# Adding some noise to the data by randomly changing a small percentage of the features\n",
    "import numpy as np\n",
    "\n",
    "noise_level = 0.05\n",
    "noise = np.random.normal(0, noise_level, X_train.shape)\n",
    "X_train_noisy = X_train + noise\n"
   ]
  },
  {
   "cell_type": "code",
   "execution_count": 14,
   "metadata": {},
   "outputs": [
    {
     "name": "stdout",
     "output_type": "stream",
     "text": [
      "Cross-validation scores: [0.99875  1.       1.       0.996875 0.999875]\n",
      "Mean cross-validation score: 99.91%\n"
     ]
    }
   ],
   "source": [
    "from sklearn.model_selection import cross_val_score\n",
    "\n",
    "# Perform 5-fold cross-validation to avoid overfitting\n",
    "cv_scores = cross_val_score(rf_model, X, y, cv=5)\n",
    "print(f\"Cross-validation scores: {cv_scores}\")\n",
    "print(f\"Mean cross-validation score: {cv_scores.mean() * 100:.2f}%\")\n"
   ]
  },
  {
   "cell_type": "code",
   "execution_count": 16,
   "metadata": {},
   "outputs": [
    {
     "name": "stdout",
     "output_type": "stream",
     "text": [
      "Accuracy: 99.99%\n",
      "\n",
      "Classification Report:\n",
      "              precision    recall  f1-score   support\n",
      "\n",
      "           0       1.00      1.00      1.00      4003\n",
      "           1       1.00      1.00      1.00      3997\n",
      "\n",
      "    accuracy                           1.00      8000\n",
      "   macro avg       1.00      1.00      1.00      8000\n",
      "weighted avg       1.00      1.00      1.00      8000\n",
      "\n"
     ]
    }
   ],
   "source": [
    "# Import necessary libraries\n",
    "from sklearn.ensemble import RandomForestClassifier\n",
    "from sklearn.model_selection import train_test_split\n",
    "from sklearn.metrics import accuracy_score, classification_report\n",
    "\n",
    "# Load dataset\n",
    "df = pd.read_csv(\"Balanced_Autonomous_Vehicle_Security_Dataset.csv\")\n",
    "\n",
    "# Preprocessing and encoding (similar as before)\n",
    "label_encoder = LabelEncoder()\n",
    "df[\"Sensor Status\"] = label_encoder.fit_transform(df[\"Sensor Status\"])\n",
    "df[\"Vehicle Usage\"] = label_encoder.fit_transform(df[\"Vehicle Usage\"])\n",
    "df[\"Attack Type\"] = label_encoder.fit_transform(df[\"Attack Type\"])\n",
    "df[\"Protocol\"] = label_encoder.fit_transform(df[\"Protocol\"])\n",
    "df[\"Car Sensor Type\"] = label_encoder.fit_transform(df[\"Car Sensor Type\"])\n",
    "df[\"Connection Type\"] = label_encoder.fit_transform(df[\"Connection Type\"])\n",
    "df[\"Label\"] = label_encoder.fit_transform(df[\"Label\"])\n",
    "\n",
    "# Prepare features and labels\n",
    "X = df.drop(columns=[\"Vehicle ID\", \"Location\", \"Label\"])\n",
    "y = df[\"Label\"]\n",
    "\n",
    "# Split data into training and testing sets\n",
    "X_train, X_test, y_train, y_test = train_test_split(X, y, test_size=0.2, random_state=42)\n",
    "\n",
    "# Initialize the model with adjusted parameters to prevent overfitting\n",
    "rf_model = RandomForestClassifier(n_estimators=50, max_depth=6, min_samples_split=10, min_samples_leaf=5, random_state=42)\n",
    "\n",
    "# Train the model\n",
    "rf_model.fit(X_train, y_train)\n",
    "\n",
    "# Predict on test data\n",
    "y_pred = rf_model.predict(X_test)\n",
    "\n",
    "# Calculate accuracy\n",
    "accuracy = accuracy_score(y_test, y_pred)\n",
    "print(f\"Accuracy: {accuracy * 100:.2f}%\")\n",
    "\n",
    "# Print classification report\n",
    "print(\"\\nClassification Report:\")\n",
    "print(classification_report(y_test, y_pred))\n",
    "\n"
   ]
  },
  {
   "cell_type": "code",
   "execution_count": 18,
   "metadata": {},
   "outputs": [
    {
     "name": "stdout",
     "output_type": "stream",
     "text": [
      "Accuracy: 99.99%\n"
     ]
    }
   ],
   "source": [
    "# Calculate accuracy\n",
    "accuracy = accuracy_score(y_test, y_pred)\n",
    "print(f\"Accuracy: {accuracy * 100:.2f}%\")\n"
   ]
  }
 ],
 "metadata": {
  "kernelspec": {
   "display_name": "Python 3",
   "language": "python",
   "name": "python3"
  },
  "language_info": {
   "codemirror_mode": {
    "name": "ipython",
    "version": 3
   },
   "file_extension": ".py",
   "mimetype": "text/x-python",
   "name": "python",
   "nbconvert_exporter": "python",
   "pygments_lexer": "ipython3",
   "version": "3.13.0"
  }
 },
 "nbformat": 4,
 "nbformat_minor": 2
}
